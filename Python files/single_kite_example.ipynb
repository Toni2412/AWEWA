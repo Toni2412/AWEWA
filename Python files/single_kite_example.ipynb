{
 "cells": [
  {
   "cell_type": "code",
   "execution_count": 1,
   "id": "ab49d329",
   "metadata": {},
   "outputs": [],
   "source": [
    "import os \n",
    "os.chdir(\"/Users/antoniamuhleck/Desktop/Hiwi/AWEWA/Python files\")"
   ]
  },
  {
   "cell_type": "markdown",
   "id": "e88712c4",
   "metadata": {},
   "source": [
    "## Imports"
   ]
  },
  {
   "cell_type": "code",
   "execution_count": null,
   "id": "cebe6432",
   "metadata": {},
   "outputs": [],
   "source": [
    "from creating_dust_input_files import *\n",
    "from creating_elliptic_wing import create_elliptic_wing\n",
    "from running_DUST_files import *\n",
    "import pandas as pd # type: ignore\n",
    "import numpy as np # type: ignore\n",
    "import os \n",
    "import pyvista as pv\n",
    "import matplotlib.colors as mcolors\n",
    "import matplotlib.pyplot as plt\n",
    "from velocity_in_front_of_kite import *"
   ]
  },
  {
   "cell_type": "markdown",
   "id": "12ac61b4",
   "metadata": {},
   "source": [
    "## Defining the paths"
   ]
  },
  {
   "cell_type": "code",
   "execution_count": 3,
   "id": "cafd4735",
   "metadata": {},
   "outputs": [],
   "source": [
    "current_dir = os.getcwd()\n",
    "parent_dir = os.path.dirname(current_dir)"
   ]
  },
  {
   "cell_type": "code",
   "execution_count": 4,
   "id": "8a0d0707",
   "metadata": {},
   "outputs": [],
   "source": [
    "folder_path_DUST_files = os.path.join(parent_dir, \"DUST files single\") # path to folder with DUST files, here your dust input files will be created as well as the Output folder and Postprocessing folder\n",
    "file_path_awebox = os.path.join(parent_dir, \"awebox files/outputs_megawes_trajectory_vlm_results.csv\") # path to the awebox file of the trajoctory\n",
    "file_path_awebox_2 = os.path.join(parent_dir, \"awebox files/outputs_megawes_trajectory_vlm3DOF_results.csv\") # path to the awebox file of the trajoctory"
   ]
  },
  {
   "cell_type": "code",
   "execution_count": 9,
   "id": "2b45cb56",
   "metadata": {},
   "outputs": [],
   "source": [
    "n_rot = 1\n",
    "res = 20\n",
    "single_or_dual = \"single\"\n",
    "particles_or_panels = \"panels\"\n",
    "apply_pitch_correction = False\n",
    "CL0 = 0\n",
    "alpha_max = 0\n",
    "alpha_min = 0"
   ]
  },
  {
   "cell_type": "markdown",
   "id": "f0650723",
   "metadata": {},
   "source": [
    "## Creating the Wing"
   ]
  },
  {
   "cell_type": "code",
   "execution_count": 13,
   "id": "ffabb5a0",
   "metadata": {},
   "outputs": [],
   "source": [
    "AR = 12\n",
    "span = 42.47\n",
    "N_elements = 10\n",
    "nelem_span = 4\n",
    "end_chord = 1.0\n",
    "airfoil_profile = \"NACA0012\"\n",
    "airfoil_table = \"/Users/antoniamuhleck/Desktop/Hiwi/AWEWA/airfoils/naca0012.c81\""
   ]
  },
  {
   "cell_type": "code",
   "execution_count": 14,
   "id": "f19e6dd3",
   "metadata": {},
   "outputs": [],
   "source": [
    "create_elliptic_wing(folder_path_DUST_files, AR, span, N_elements, nelem_span, airfoil_profile, airfoil_table, end_chord)"
   ]
  },
  {
   "cell_type": "markdown",
   "id": "b1654e22",
   "metadata": {},
   "source": [
    "## Creating the DUST files and running the simulation"
   ]
  },
  {
   "cell_type": "code",
   "execution_count": 15,
   "id": "c37e2eac",
   "metadata": {},
   "outputs": [],
   "source": [
    "n_rot = 1\n",
    "res = 20\n",
    "single_or_dual = \"single\"\n",
    "particles_or_panels = \"panels\"\n",
    "apply_pitch_correction = False\n",
    "CL0 = 0\n",
    "alpha_max = 0\n",
    "alpha_min = 0"
   ]
  },
  {
   "cell_type": "code",
   "execution_count": null,
   "id": "e91a7cc8",
   "metadata": {},
   "outputs": [],
   "source": [
    "create_dust_files(n_rot, res, file_path_awebox, folder_path_DUST_files, single_or_dual, particles_or_panels, apply_pitch_correction, CL0, alpha_max, alpha_min)"
   ]
  },
  {
   "cell_type": "code",
   "execution_count": 21,
   "id": "7f06907a",
   "metadata": {},
   "outputs": [],
   "source": [
    "# run_full_simulation(folder_path_DUST_files)"
   ]
  },
  {
   "cell_type": "markdown",
   "id": "af306ab6",
   "metadata": {},
   "source": [
    "## Additional postprocessing"
   ]
  },
  {
   "cell_type": "markdown",
   "id": "c80383f4",
   "metadata": {},
   "source": [
    "### Velocity in front of the wing"
   ]
  },
  {
   "cell_type": "code",
   "execution_count": 19,
   "id": "fd32ed82",
   "metadata": {},
   "outputs": [],
   "source": [
    "# velocities_5m, time = velocity_in_front_of_kite(2, res, file_path_awebox, folder_path_DUST_files, single_or_dual, apply_pitch_correction, CL0, alpha_max, alpha_min, 1)"
   ]
  },
  {
   "cell_type": "code",
   "execution_count": 20,
   "id": "85cecc9d",
   "metadata": {},
   "outputs": [],
   "source": [
    "# plt.plot(time, np.array(velocities_20m[0])[:,0], label = \"v_x\")\n",
    "# plt.plot(time, np.array(velocities_20m[0])[:,1], label = \"v_y\")\n",
    "# plt.plot(time, np.array(velocities_20m[0])[:,2], label = \"v_z\")\n",
    "# plt.legend()\n",
    "# plt.title(\"d = 5m, first two rotations\")\n",
    "# plt.xlabel(\"time [s]\")\n",
    "# plt.ylabel(\"v[m/s]\")\n",
    "# plt.show()"
   ]
  }
 ],
 "metadata": {
  "kernelspec": {
   "display_name": "Python (thesisenv)",
   "language": "python",
   "name": "thesisenv"
  },
  "language_info": {
   "codemirror_mode": {
    "name": "ipython",
    "version": 3
   },
   "file_extension": ".py",
   "mimetype": "text/x-python",
   "name": "python",
   "nbconvert_exporter": "python",
   "pygments_lexer": "ipython3",
   "version": "3.11.3"
  }
 },
 "nbformat": 4,
 "nbformat_minor": 5
}
