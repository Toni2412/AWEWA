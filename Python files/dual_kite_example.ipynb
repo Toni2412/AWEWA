{
 "cells": [
  {
   "cell_type": "code",
   "execution_count": 7,
   "id": "d47b60be",
   "metadata": {},
   "outputs": [],
   "source": [
    "import os \n",
    "os.chdir(\"/Users/antoniamuhleck/Desktop/Hiwi/AWEWA/Python files\")"
   ]
  },
  {
   "cell_type": "code",
   "execution_count": 8,
   "id": "abffb93e",
   "metadata": {},
   "outputs": [],
   "source": [
    "from creating_dust_input_files import modify_dust_files\n",
    "from creating_elliptic_wing import create_elliptic_wing\n",
    "import pandas as pd # type: ignore\n",
    "import numpy as np # type: ignore\n"
   ]
  },
  {
   "cell_type": "code",
   "execution_count": 9,
   "id": "4e6f7f92",
   "metadata": {},
   "outputs": [],
   "source": [
    "folder_path = \"/Users/antoniamuhleck/Desktop/Hiwi/AWEWA/DUST files\"\n",
    "file_path = \"/Users/antoniamuhleck/Desktop/Hiwi/AWEWA/awebox files/outputs_megawes_trajectory_vlm_results.csv\""
   ]
  },
  {
   "cell_type": "code",
   "execution_count": 10,
   "id": "ffb4783c",
   "metadata": {},
   "outputs": [],
   "source": [
    "AR = 10\n",
    "span = 44.73\n",
    "N_elements = 10\n",
    "nelem_span = 4\n",
    "end_chord = 1.0\n",
    "airfoil_profile = \"NACA0012\"\n",
    "airfoil_table = \"/Users/antoniamuhleck/Desktop/Hiwi/AWEWA/airfoils/naca0012.c81\""
   ]
  },
  {
   "cell_type": "code",
   "execution_count": 11,
   "id": "a9001a0e",
   "metadata": {},
   "outputs": [],
   "source": [
    "span = 42.47\n",
    "AR = 12"
   ]
  },
  {
   "cell_type": "code",
   "execution_count": 12,
   "id": "b33a400b",
   "metadata": {},
   "outputs": [],
   "source": [
    "create_elliptic_wing(folder_path, AR, span, N_elements, nelem_span, airfoil_profile, airfoil_table, end_chord)"
   ]
  },
  {
   "cell_type": "code",
   "execution_count": 13,
   "id": "e7e768d6",
   "metadata": {},
   "outputs": [],
   "source": [
    "n_rot = 2\n",
    "res = 22\n",
    "single_or_dual = \"single\"\n",
    "particles_or_panels = \"panels\"\n",
    "apply_pitch_correction = False\n",
    "CL0 = 0\n",
    "alpha_max = 12\n",
    "alpha_min = 0"
   ]
  },
  {
   "cell_type": "code",
   "execution_count": 20,
   "id": "1ece8b1e",
   "metadata": {},
   "outputs": [],
   "source": [
    "modify_dust_files(n_rot, res, file_path, folder_path, single_or_dual, particles_or_panels, apply_pitch_correction, CL0, alpha_max, alpha_min)"
   ]
  },
  {
   "cell_type": "code",
   "execution_count": null,
   "id": "b2710ea4",
   "metadata": {},
   "outputs": [],
   "source": []
  }
 ],
 "metadata": {
  "kernelspec": {
   "display_name": "Python (thesisenv)",
   "language": "python",
   "name": "thesisenv"
  },
  "language_info": {
   "codemirror_mode": {
    "name": "ipython",
    "version": 3
   },
   "file_extension": ".py",
   "mimetype": "text/x-python",
   "name": "python",
   "nbconvert_exporter": "python",
   "pygments_lexer": "ipython3",
   "version": "3.11.3"
  }
 },
 "nbformat": 4,
 "nbformat_minor": 5
}
