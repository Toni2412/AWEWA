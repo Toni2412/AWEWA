{
 "cells": [
  {
   "cell_type": "code",
   "execution_count": 1,
   "id": "d47b60be",
   "metadata": {},
   "outputs": [],
   "source": [
    "import os \n",
    "os.chdir(\"/Users/antoniamuhleck/Desktop/Hiwi/AWEWA/Python files\")"
   ]
  },
  {
   "cell_type": "markdown",
   "id": "e1434740",
   "metadata": {},
   "source": [
    "## Imports"
   ]
  },
  {
   "cell_type": "code",
   "execution_count": 9,
   "id": "abffb93e",
   "metadata": {},
   "outputs": [],
   "source": [
    "from creating_dust_input_files import *\n",
    "from creating_elliptic_wing import create_elliptic_wing\n",
    "from running_DUST_files import *\n",
    "from velocity_in_front_of_kite import *\n",
    "import pandas as pd # type: ignore\n",
    "import numpy as np # type: ignore\n",
    "import os \n",
    "import matplotlib.colors as mcolors\n",
    "import matplotlib.pyplot as plt"
   ]
  },
  {
   "cell_type": "markdown",
   "id": "3ca644a0",
   "metadata": {},
   "source": [
    "## Defining the paths"
   ]
  },
  {
   "cell_type": "code",
   "execution_count": 10,
   "id": "172b16d0",
   "metadata": {},
   "outputs": [],
   "source": [
    "current_dir = os.getcwd()\n",
    "parent_dir = os.path.dirname(current_dir)"
   ]
  },
  {
   "cell_type": "code",
   "execution_count": 11,
   "id": "0493ac33",
   "metadata": {},
   "outputs": [],
   "source": [
    "folder_path_DUST_files = os.path.join(parent_dir, \"DUST files\") # path to folder with DUST files, here your dust input files will be created as well as the Output folder and Postprocessing folder\n",
    "file_path_awebox = os.path.join(parent_dir, \"awebox files/AAA_3DOF_N8_d4_Nrings3_Ndup3_Nfar4_rectangle_convfar.csv\") # path to the awebox file of the trajoctory"
   ]
  },
  {
   "cell_type": "markdown",
   "id": "a56b95ce",
   "metadata": {},
   "source": [
    "## Creating the Wing"
   ]
  },
  {
   "cell_type": "code",
   "execution_count": 12,
   "id": "ffb4783c",
   "metadata": {},
   "outputs": [],
   "source": [
    "AR = 10\n",
    "span = 44.73\n",
    "N_elements = 10\n",
    "nelem_span = 4\n",
    "end_chord = 1.0\n",
    "airfoil_profile = \"NACA0012\"\n",
    "airfoil_table = \"/Users/antoniamuhleck/Desktop/Hiwi/AWEWA/airfoils/naca0012.c81\""
   ]
  },
  {
   "cell_type": "code",
   "execution_count": 13,
   "id": "b33a400b",
   "metadata": {},
   "outputs": [],
   "source": [
    "create_elliptic_wing(folder_path_DUST_files, AR, span, N_elements, nelem_span, airfoil_profile, end_chord, \"vl\",3, airfoil_table )"
   ]
  },
  {
   "cell_type": "markdown",
   "id": "c5f3d441",
   "metadata": {},
   "source": [
    "## Creating the DUST files and running the simulation"
   ]
  },
  {
   "cell_type": "code",
   "execution_count": 14,
   "id": "e7e768d6",
   "metadata": {},
   "outputs": [],
   "source": [
    "n_rot = 2\n",
    "res = 4\n",
    "single_or_dual = \"dual\"\n",
    "particles_or_panels = \"particles\"\n",
    "apply_pitch_correction = True\n",
    "CL0 = 0\n",
    "alpha_max = 12\n",
    "alpha_min = 0"
   ]
  },
  {
   "cell_type": "code",
   "execution_count": 15,
   "id": "1ece8b1e",
   "metadata": {},
   "outputs": [],
   "source": [
    "create_dust_files(n_rot, res, file_path_awebox, folder_path_DUST_files, single_or_dual, apply_pitch_correction, CL0, alpha_max, alpha_min, particles_or_panels, 80)"
   ]
  },
  {
   "cell_type": "code",
   "execution_count": 18,
   "id": "e867f0a6",
   "metadata": {},
   "outputs": [],
   "source": [
    "# run_full_simulation(folder_path_DUST_files)"
   ]
  },
  {
   "cell_type": "markdown",
   "id": "b977a65b",
   "metadata": {},
   "source": [
    "## Additional postprocessing"
   ]
  },
  {
   "cell_type": "markdown",
   "id": "f0b3a332",
   "metadata": {},
   "source": [
    "### Velocity in front of the wing"
   ]
  },
  {
   "cell_type": "code",
   "execution_count": 19,
   "id": "a9b2b07b",
   "metadata": {},
   "outputs": [],
   "source": [
    "# velocities_20m, time = velocity_in_front_of_kite(2, res, file_path_awebox, folder_path_DUST_files, single_or_dual, apply_pitch_correction, CL0, alpha_max, alpha_min, 20)"
   ]
  },
  {
   "cell_type": "code",
   "execution_count": 20,
   "id": "805a2473",
   "metadata": {},
   "outputs": [],
   "source": [
    "# plt.plot(time, np.array(velocities_20m[0])[:,0], label = \"v_x\")\n",
    "# plt.plot(time, np.array(velocities_20m[0])[:,1], label = \"v_y\")\n",
    "# plt.plot(time, np.array(velocities_20m[0])[:,2], label = \"v_z\")\n",
    "# plt.legend()\n",
    "# plt.title(\"kite 1, d = 20m, first rotation\")\n",
    "# plt.xlabel(\"time [s]\")\n",
    "# plt.ylabel(\"v[m/s]\")\n",
    "# plt.show()"
   ]
  },
  {
   "cell_type": "markdown",
   "id": "55db6a32",
   "metadata": {},
   "source": [
    "## Visualisations"
   ]
  },
  {
   "cell_type": "markdown",
   "id": "e356f434",
   "metadata": {},
   "source": [
    "### Heatmap in kite plane"
   ]
  },
  {
   "cell_type": "code",
   "execution_count": null,
   "id": "f9aba01e",
   "metadata": {},
   "outputs": [],
   "source": [
    "file_path_hm_kite_plane = \"post_heatmap_xz_0239.vtr\""
   ]
  },
  {
   "cell_type": "code",
   "execution_count": null,
   "id": "7e9f0826",
   "metadata": {},
   "outputs": [],
   "source": [
    "mesh = pv.read(file_path_hm_kite_plane)\n",
    "\n",
    "mesh[\"velocity\"][:, 0] -= u_inf\n",
    "\n",
    "# calculating velocity components orthogonal to the plane\n",
    "v_components_orthogonal_to_plane = v_normal @ mesh[\"velocity\"].T\n",
    "\n",
    "# Convert the result back to a pyvista_ndarray\n",
    "v_components_orthogonal_to_plane = np.clip(v_components_orthogonal_to_plane, -10, 10)\n",
    "v_components_orthogonal_to_plane = pv.pyvista_ndarray(v_components_orthogonal_to_plane)\n",
    "\n",
    "nx, ny, nz = mesh.dimensions\n",
    "velocity_grid = v_components_orthogonal_to_plane.reshape((nz, ny, nx))\n",
    "\n",
    "# works only for nz = nx\n",
    "diagonal_velocity = np.array([velocity_grid[i, :, nz - i - 1] for i in range(nz)])\n",
    "X = np.linspace(mesh.bounds[2], mesh.bounds[3], diagonal_velocity.shape[1])\n",
    "Y = np.linspace(mesh.bounds[4], mesh.bounds[5], diagonal_velocity.shape[0])\n",
    "X, Y = np.meshgrid(X, Y)\n",
    "# Normalize the colormap to center at 0\n",
    "norm = mcolors.TwoSlopeNorm(vmin=diagonal_velocity.min(), vcenter=0, vmax=diagonal_velocity.max())\n",
    "\n",
    "plt.figure(figsize=(8, 6))  # Adjust the figure size as needed\n",
    "ax = plt.gca()\n",
    "cset = plt.contourf(X, Y, diagonal_velocity, levels=30, cmap=plt.cm.RdBu_r, norm=norm)\n",
    "\n",
    "# Creating the plot\n",
    "# Adding a legend\n",
    "cbar = plt.colorbar(cset, label='$v_\\mathrm{ind}$ [m/s]')\n",
    "cbar.set_label('$v_\\mathrm{ind}$ [m/s]') \n",
    "\n",
    "# Adding labels\n",
    "plt.xlabel('$e_\\mathrm{1}$')\n",
    "plt.ylabel('$e_\\mathrm{2}$')\n",
    "plt.show()"
   ]
  },
  {
   "cell_type": "markdown",
   "id": "17affc22",
   "metadata": {},
   "source": [
    "### Heatmap in the xz plane"
   ]
  },
  {
   "cell_type": "code",
   "execution_count": 15,
   "id": "a8235f48",
   "metadata": {},
   "outputs": [],
   "source": [
    "plot_dict = pd.read_csv(file_path_awebox)\n",
    "u_inf = np.average(plot_dict[\"outputs_aerodynamics_u_infty2_0\"])\n",
    "\n",
    "elevation_opt = np.arcsin(np.mean(plot_dict['x_q10_2']) / plot_dict['theta_l_t_0'][0])\n",
    "v_normal = [np.cos(elevation_opt), 0, np.sin(elevation_opt)]"
   ]
  },
  {
   "cell_type": "code",
   "execution_count": 16,
   "id": "7b88d2a5",
   "metadata": {},
   "outputs": [],
   "source": [
    "file_path_hm_xz = os.path.join(parent_dir, \"DUST files/Postprocessing/post_heatmap_xz_0239.vtr\")"
   ]
  },
  {
   "cell_type": "code",
   "execution_count": 21,
   "id": "54624681",
   "metadata": {},
   "outputs": [],
   "source": [
    "# mesh = pv.read(file_path_hm_xz)\n",
    "\n",
    "# mesh[\"velocity\"][:, 0] -= u_inf\n",
    "# v_components_orthogonal_to_plane = v_normal @ mesh[\"velocity\"].T\n",
    "\n",
    "# x, z = mesh.points[:, 0], mesh.points[:, 2]  \n",
    "\n",
    "# nx, ny = len(np.unique(x)), len(np.unique(z))\n",
    "# grid_values = v_components_orthogonal_to_plane.reshape((ny, nx)) \n",
    "\n",
    "# grid_values = np.clip(grid_values, -12, 6)\n",
    "\n",
    "# norm = mcolors.TwoSlopeNorm(vmin=grid_values.min(), vcenter=0, vmax=grid_values.max())\n",
    "\n",
    "# X = np.linspace(mesh.bounds[0], mesh.bounds[1], grid_values.shape[1])\n",
    "# Y = np.linspace(mesh.bounds[4], mesh.bounds[5], grid_values.shape[0])\n",
    "# X, Y = np.meshgrid(X, Y)\n",
    "\n",
    "\n",
    "\n",
    "# plt.figure(figsize=(10, 6))  \n",
    "# ax = plt.gca()\n",
    "# cset = plt.contourf(X, Y, grid_values, levels=30, cmap=plt.cm.RdBu_r, norm=norm)\n",
    "\n",
    "# cbar = plt.colorbar(cset, label='$v_\\mathrm{ind}$ [m/s]')\n",
    "# cbar.set_label('$v_\\mathrm{ind}$ [m/s]') \n",
    "\n",
    "# plt.xlabel('x')\n",
    "# plt.ylabel('z')\n",
    "\n",
    "# plt.show()\n"
   ]
  }
 ],
 "metadata": {
  "kernelspec": {
   "display_name": "Python (thesisenv)",
   "language": "python",
   "name": "thesisenv"
  },
  "language_info": {
   "codemirror_mode": {
    "name": "ipython",
    "version": 3
   },
   "file_extension": ".py",
   "mimetype": "text/x-python",
   "name": "python",
   "nbconvert_exporter": "python",
   "pygments_lexer": "ipython3",
   "version": "3.11.3"
  }
 },
 "nbformat": 4,
 "nbformat_minor": 5
}
